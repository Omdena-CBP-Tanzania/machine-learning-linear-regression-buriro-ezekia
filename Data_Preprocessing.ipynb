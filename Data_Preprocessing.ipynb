{
  "nbformat": 4,
  "nbformat_minor": 0,
  "metadata": {
    "colab": {
      "provenance": []
    },
    "kernelspec": {
      "name": "python3",
      "display_name": "Python 3"
    },
    "language_info": {
      "name": "python"
    }
  },
  "cells": [
    {
      "cell_type": "markdown",
      "source": [
        "**Project Title**: Predicting House Prices Using Linear Regression\n",
        "\n",
        "**Objective**: To introduce students to supervised learning, focusing on linear regression, by guiding them through a project that predicts house prices based on a variety of features."
      ],
      "metadata": {
        "id": "4FYmoLudaoau"
      }
    },
    {
      "cell_type": "markdown",
      "source": [
        "# **Data Exploration and Preprocessing**"
      ],
      "metadata": {
        "id": "-6DgEQ0uxY4n"
      }
    },
    {
      "cell_type": "markdown",
      "source": [
        "**Task 2: Data Preprocessing**"
      ],
      "metadata": {
        "id": "WnVz09wlcoZC"
      }
    },
    {
      "cell_type": "code",
      "source": [
        "# Import necessary libraries\n",
        "import pandas as pd\n",
        "import seaborn as sns\n",
        "import matplotlib.pyplot as plt\n",
        "\n",
        "# Load the dataset\n",
        "# Assuming the dataset is stored in a CSV file named 'BostonHousing.csv' in the specified path\n",
        "df = pd.read_csv('drive/MyDrive/Datasets/BostonHousing.csv')\n",
        "\n",
        "# Identify missing values\n",
        "missing_values = df.isnull().sum()\n",
        "print(\"Missing Values:\")\n",
        "print(missing_values)\n",
        "\n",
        "# Impute missing values\n",
        "# For simplicity, we'll use mean imputation for numerical features\n",
        "df.fillna(df.mean(), inplace=True)\n",
        "\n",
        "# Verify that there are no missing values left\n",
        "print(\"\\nMissing Values after Imputation:\")\n",
        "print(df.isnull().sum())"
      ],
      "metadata": {
        "colab": {
          "base_uri": "https://localhost:8080/"
        },
        "id": "aVl6NqjHhveE",
        "outputId": "5d496a98-9104-4aa6-9cd7-fa4d89a2615a"
      },
      "execution_count": 65,
      "outputs": [
        {
          "output_type": "stream",
          "name": "stdout",
          "text": [
            "Missing Values:\n",
            "crim       0\n",
            "zn         0\n",
            "indus      0\n",
            "chas       0\n",
            "nox        0\n",
            "rm         0\n",
            "age        0\n",
            "dis        0\n",
            "rad        0\n",
            "tax        0\n",
            "ptratio    0\n",
            "b          0\n",
            "lstat      0\n",
            "medv       0\n",
            "dtype: int64\n",
            "\n",
            "Missing Values after Imputation:\n",
            "crim       0\n",
            "zn         0\n",
            "indus      0\n",
            "chas       0\n",
            "nox        0\n",
            "rm         0\n",
            "age        0\n",
            "dis        0\n",
            "rad        0\n",
            "tax        0\n",
            "ptratio    0\n",
            "b          0\n",
            "lstat      0\n",
            "medv       0\n",
            "dtype: int64\n"
          ]
        }
      ]
    },
    {
      "cell_type": "code",
      "source": [
        "# Detect outliers using box plots for each feature\n",
        "features = ['crim', 'zn', 'indus', 'chas', 'nox', 'rm', 'age', 'dis', 'rad', 'tax', 'ptratio', 'b', 'lstat', 'medv']\n",
        "\n",
        "# # Create subplots for each feature to identify outliers\n",
        "# fig, axes = plt.subplots(nrows=7, ncols=2, figsize=(15, 30))\n",
        "# axes = axes.flatten()\n",
        "\n",
        "# for i, feature in enumerate(features):\n",
        "#     sns.boxplot(x=df[feature], ax=axes[i])\n",
        "#     axes[i].set_title(f'Boxplot of {feature}')\n",
        "#     axes[i].set_xlabel(feature)\n",
        "\n",
        "# # Adjust layout\n",
        "# plt.tight_layout()\n",
        "# plt.show()\n",
        "\n",
        "# Handle outliers by capping them at the 1st and 99th percentiles\n",
        "for feature in features:\n",
        "    lower_percentile = df[feature].quantile(0.01)\n",
        "    upper_percentile = df[feature].quantile(0.99)\n",
        "    df[feature] = df[feature].clip(lower=lower_percentile, upper=upper_percentile)\n",
        "\n",
        "# Verify outliers are handled\n",
        "print(\"\\nSummary Statistics after handling outliers:\")\n",
        "print(df.describe())\n",
        "\n",
        "# Encode categorical variables\n",
        "# For this dataset, the only categorical variable is 'chas'\n",
        "df = pd.get_dummies(df, columns=['chas'], drop_first=True)\n",
        "\n",
        "# Verify encoding\n",
        "print(\"\\nData after encoding categorical variables:\")\n",
        "print(df.head())"
      ],
      "metadata": {
        "colab": {
          "base_uri": "https://localhost:8080/"
        },
        "id": "4fvHXEV9yLGQ",
        "outputId": "2d26fc6c-5bca-40b0-e61e-44445a53661a"
      },
      "execution_count": 66,
      "outputs": [
        {
          "output_type": "stream",
          "name": "stdout",
          "text": [
            "Summary Statistics after handling outliers:\n",
            "             crim          zn       indus        chas         nox          rm  \\\n",
            "count  506.000000  506.000000  506.000000  506.000000  506.000000  506.000000   \n",
            "mean     3.375175   11.304348   11.118875    0.069170    0.554770    6.287106   \n",
            "std      6.908970   23.112644    6.809112    0.253994    0.115773    0.678876   \n",
            "min      0.013610    0.000000    1.253500    0.000000    0.398000    4.524450   \n",
            "25%      0.082045    0.000000    5.190000    0.000000    0.449000    5.885500   \n",
            "50%      0.256510    0.000000    9.690000    0.000000    0.538000    6.208500   \n",
            "75%      3.677083   12.500000   18.100000    0.000000    0.624000    6.623500   \n",
            "max     41.370330   90.000000   25.650000    1.000000    0.871000    8.335000   \n",
            "\n",
            "              age         dis         rad         tax     ptratio           b  \\\n",
            "count  506.000000  506.000000  506.000000  506.000000  506.000000  506.000000   \n",
            "mean    68.584506    3.778529    9.549407  407.794466   18.454743  356.715751   \n",
            "std     28.127163    2.052652    8.707259  167.791388    2.154109   91.133441   \n",
            "min      6.610000    1.206540    1.000000  188.000000   13.000000    6.730000   \n",
            "25%     45.025000    2.100175    4.000000  279.000000   17.400000  375.377500   \n",
            "50%     77.500000    3.207450    5.000000  330.000000   19.050000  391.440000   \n",
            "75%     94.075000    5.188425   24.000000  666.000000   20.200000  396.225000   \n",
            "max    100.000000    9.222770   24.000000  666.000000   21.200000  396.900000   \n",
            "\n",
            "            lstat        medv  \n",
            "count  506.000000  506.000000  \n",
            "mean    12.642073   22.544980  \n",
            "std      7.074084    9.175344  \n",
            "min      2.883000    7.010000  \n",
            "25%      6.950000   17.025000  \n",
            "50%     11.360000   21.200000  \n",
            "75%     16.955000   25.000000  \n",
            "max     33.918500   50.000000  \n",
            "\n",
            "Data after encoding categorical variables:\n",
            "      crim    zn  indus    nox     rm   age     dis  rad  tax  ptratio  \\\n",
            "0  0.01361  18.0   2.31  0.538  6.575  65.2  4.0900    1  296     15.3   \n",
            "1  0.02731   0.0   7.07  0.469  6.421  78.9  4.9671    2  242     17.8   \n",
            "2  0.02729   0.0   7.07  0.469  7.185  61.1  4.9671    2  242     17.8   \n",
            "3  0.03237   0.0   2.18  0.458  6.998  45.8  6.0622    3  222     18.7   \n",
            "4  0.06905   0.0   2.18  0.458  7.147  54.2  6.0622    3  222     18.7   \n",
            "\n",
            "        b  lstat  medv  chas_1  \n",
            "0  396.90   4.98  24.0   False  \n",
            "1  396.90   9.14  21.6   False  \n",
            "2  392.83   4.03  34.7   False  \n",
            "3  394.63   2.94  33.4   False  \n",
            "4  396.90   5.33  36.2   False  \n"
          ]
        }
      ]
    },
    {
      "cell_type": "code",
      "source": [
        "# Normalize/standardize numerical features.\n",
        "# Import necessary libraries\n",
        "import pandas as pd\n",
        "from sklearn.preprocessing import MinMaxScaler, StandardScaler\n",
        "\n",
        "# Separate features and target variable\n",
        "X = df.drop(columns=['medv'])\n",
        "y = df['medv']\n",
        "\n",
        "# Normalize numerical features\n",
        "scaler = MinMaxScaler()\n",
        "X_normalized = pd.DataFrame(scaler.fit_transform(X), columns=X.columns)\n",
        "\n",
        "print(\"\\nNormalized Features:\")\n",
        "print(X_normalized.head())\n",
        "\n",
        "# Standardize numerical features\n",
        "scaler = StandardScaler()\n",
        "X_standardized = pd.DataFrame(scaler.fit_transform(X), columns=X.columns)\n",
        "\n",
        "print(\"\\nStandardized Features:\")\n",
        "print(X_standardized.head())"
      ],
      "metadata": {
        "colab": {
          "base_uri": "https://localhost:8080/"
        },
        "id": "QOD8Yd210cNg",
        "outputId": "9872596f-f56f-402e-fce5-b6cb0b34c44f"
      },
      "execution_count": 67,
      "outputs": [
        {
          "output_type": "stream",
          "name": "stdout",
          "text": [
            "\n",
            "Normalized Features:\n",
            "       crim   zn     indus       nox        rm       age       dis       rad  \\\n",
            "0  0.000000  0.2  0.043305  0.295983  0.538124  0.627369  0.359703  0.000000   \n",
            "1  0.000331  0.0  0.238415  0.150106  0.497710  0.774066  0.469118  0.043478   \n",
            "2  0.000331  0.0  0.238415  0.150106  0.698206  0.583467  0.469118  0.043478   \n",
            "3  0.000454  0.0  0.037977  0.126850  0.649132  0.419638  0.605729  0.086957   \n",
            "4  0.001341  0.0  0.037977  0.126850  0.688234  0.509583  0.605729  0.086957   \n",
            "\n",
            "        tax   ptratio         b     lstat  chas_1  \n",
            "0  0.225941  0.280488  1.000000  0.067568     0.0  \n",
            "1  0.112971  0.585366  1.000000  0.201608     0.0  \n",
            "2  0.112971  0.585366  0.989569  0.036958     0.0  \n",
            "3  0.071130  0.695122  0.994182  0.001837     0.0  \n",
            "4  0.071130  0.695122  1.000000  0.078845     0.0  \n",
            "\n",
            "Standardized Features:\n",
            "       crim        zn     indus       nox        rm       age       dis  \\\n",
            "0 -0.487032  0.289983 -1.294970 -0.144997  0.424494 -0.120448  0.151891   \n",
            "1 -0.485047 -0.489582 -0.595215 -0.741581  0.197424  0.367108  0.579615   \n",
            "2 -0.485050 -0.489582 -0.595215 -0.741581  1.323927 -0.266359  0.579615   \n",
            "3 -0.484314 -0.489582 -1.314081 -0.836689  1.048199 -0.810855  1.113648   \n",
            "4 -0.479000 -0.489582 -1.314081 -0.836689  1.267896 -0.511916  1.113648   \n",
            "\n",
            "        rad       tax   ptratio         b     lstat    chas_1  \n",
            "0 -0.982843 -0.666930 -1.465973  0.441375 -1.084191 -0.272599  \n",
            "1 -0.867883 -0.989077 -0.304252  0.441375 -0.495547 -0.272599  \n",
            "2 -0.867883 -0.989077 -0.304252  0.396671 -1.218617 -0.272599  \n",
            "3 -0.752922 -1.108390  0.113968  0.416442 -1.372853 -0.272599  \n",
            "4 -0.752922 -1.108390  0.113968  0.441375 -1.034665 -0.272599  \n"
          ]
        }
      ]
    },
    {
      "cell_type": "code",
      "source": [
        "# Split the data into training and testing sets\n",
        "# Import necessary libraries\n",
        "import pandas as pd\n",
        "from sklearn.model_selection import train_test_split\n",
        "\n",
        "# # Separate features and target variable\n",
        "# X = df.drop(columns=['medv'])\n",
        "# y = df['medv']\n",
        "\n",
        "# Split the data into training and testing sets\n",
        "X_train, X_test, y_train, y_test = train_test_split(X, y, test_size=0.2, random_state=42)\n",
        "\n",
        "# Save the training and testing sets to the drive\n",
        "train_data = pd.concat([X_train, y_train], axis=1)\n",
        "test_data = pd.concat([X_test, y_test], axis=1)\n",
        "\n",
        "train_data.to_csv('drive/MyDrive/Datasets/BostonHousing_train.csv', index=False)\n",
        "test_data.to_csv('drive/MyDrive/Datasets/BostonHousing_test.csv', index=False)\n",
        "\n",
        "print(\"Training and testing data saved successfully.\")"
      ],
      "metadata": {
        "colab": {
          "base_uri": "https://localhost:8080/"
        },
        "id": "GJF1lvTQ1Q5g",
        "outputId": "94c35a83-e5dc-49e4-f3fe-33a7900cdd8d"
      },
      "execution_count": 68,
      "outputs": [
        {
          "output_type": "stream",
          "name": "stdout",
          "text": [
            "Training and testing data saved successfully.\n"
          ]
        }
      ]
    },
    {
      "cell_type": "code",
      "source": [
        "# Load the saved trained and test dataset (Optional)\n",
        "train_data = pd.read_csv('drive/MyDrive/Datasets/BostonHousing_train.csv')\n",
        "test_data = pd.read_csv('drive/MyDrive/Datasets/BostonHousing_test.csv')"
      ],
      "metadata": {
        "id": "GAQWaOQA3f8K"
      },
      "execution_count": 69,
      "outputs": []
    },
    {
      "cell_type": "code",
      "source": [
        "# Check the size of the trained and tested dataset\n",
        "print(\"Size of the training dataset:\", train_data.shape)\n",
        "print(\"Size of the testing dataset:\", test_data.shape)"
      ],
      "metadata": {
        "colab": {
          "base_uri": "https://localhost:8080/"
        },
        "id": "f-AXXvRx35Rh",
        "outputId": "3c3d34b5-1777-4281-b8a4-5b6d7f03a78c"
      },
      "execution_count": 70,
      "outputs": [
        {
          "output_type": "stream",
          "name": "stdout",
          "text": [
            "Size of the training dataset: (404, 14)\n",
            "Size of the testing dataset: (102, 14)\n"
          ]
        }
      ]
    }
  ]
}