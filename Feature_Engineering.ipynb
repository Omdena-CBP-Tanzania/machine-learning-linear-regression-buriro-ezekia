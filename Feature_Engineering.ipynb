{
  "nbformat": 4,
  "nbformat_minor": 0,
  "metadata": {
    "colab": {
      "provenance": []
    },
    "kernelspec": {
      "name": "python3",
      "display_name": "Python 3"
    },
    "language_info": {
      "name": "python"
    }
  },
  "cells": [
    {
      "cell_type": "markdown",
      "source": [
        "# **Feature Engineering and Improvement**"
      ],
      "metadata": {
        "id": "-6DgEQ0uxY4n"
      }
    },
    {
      "cell_type": "markdown",
      "source": [
        "**Task 5. Feature Engineering**"
      ],
      "metadata": {
        "id": "WnVz09wlcoZC"
      }
    },
    {
      "cell_type": "code",
      "source": [
        "# Create new features that might improve model performance\n",
        "# Test different feature combinations\n",
        "# Evaluate the impact of new features on model performance\n",
        "# Import necessary libraries\n",
        "import pandas as pd\n",
        "import numpy as np\n",
        "from sklearn.linear_model import LinearRegression\n",
        "from sklearn.preprocessing import StandardScaler, MinMaxScaler\n",
        "from sklearn.metrics import mean_squared_error, r2_score\n",
        "import joblib\n",
        "\n",
        "# Load the original datasets\n",
        "train_data = pd.read_csv('drive/MyDrive/Datasets/BostonHousing_train.csv')\n",
        "test_data = pd.read_csv('drive/MyDrive/Datasets/BostonHousing_test.csv')\n",
        "\n",
        "# Feature Engineering\n",
        "def create_new_features(df):\n",
        "    # Interaction features\n",
        "    df['rm_lstat'] = df['rm'] * df['lstat']\n",
        "    df['rm_age'] = df['rm'] * df['age']\n",
        "\n",
        "    # Polynomial features\n",
        "    df['rm_squared'] = df['rm'] ** 2\n",
        "    df['lstat_squared'] = df['lstat'] ** 2\n",
        "\n",
        "    # Log transformation\n",
        "    df['log_lstat'] = np.log(df['lstat'])\n",
        "\n",
        "    # Binning\n",
        "    df['age_binned'] = pd.cut(df['age'], bins=[0, 25, 50, 75, 100], labels=['0-25', '25-50', '50-75', '75-100'])\n",
        "\n",
        "    return df\n"
      ],
      "metadata": {
        "id": "54j6tGTYjU_g"
      },
      "execution_count": null,
      "outputs": []
    },
    {
      "cell_type": "code",
      "source": [
        "\n",
        "# Apply feature engineering to the datasets\n",
        "train_data = create_new_features(train_data)\n",
        "test_data = create_new_features(test_data)\n",
        "\n",
        "# Encode the binned feature\n",
        "train_data = pd.get_dummies(train_data, columns=['age_binned'], drop_first=True)\n",
        "test_data = pd.get_dummies(test_data, columns=['age_binned'], drop_first=True)\n",
        "\n",
        "# Define feature sets including new features\n",
        "feature_sets = [\n",
        "    ['rm', 'lstat'],\n",
        "    ['rm', 'lstat', 'rm_lstat'],\n",
        "    ['rm', 'lstat', 'rm_squared', 'lstat_squared'],\n",
        "    ['rm', 'lstat', 'log_lstat'],\n",
        "    ['rm', 'lstat', 'age_binned_25-50', 'age_binned_50-75', 'age_binned_75-100'],\n",
        "    ['rm', 'lstat', 'rm_lstat', 'rm_squared', 'lstat_squared', 'log_lstat', 'age_binned_25-50', 'age_binned_50-75', 'age_binned_75-100']\n",
        "]\n",
        "\n",
        "# Define preprocessing steps\n",
        "preprocessing_steps = ['none', 'standard', 'minmax']\n",
        "\n",
        "# Function to preprocess the data\n",
        "def preprocess_data(X_train, X_test, method):\n",
        "    if method == 'standard':\n",
        "        scaler = StandardScaler()\n",
        "    elif method == 'minmax':\n",
        "        scaler = MinMaxScaler()\n",
        "    else:\n",
        "        return X_train, X_test\n",
        "\n",
        "    X_train_scaled = scaler.fit_transform(X_train)\n",
        "    X_test_scaled = scaler.transform(X_test)\n",
        "\n",
        "    return X_train_scaled, X_test_scaled"
      ],
      "metadata": {
        "id": "8nxbrrUUlkS6"
      },
      "execution_count": null,
      "outputs": []
    },
    {
      "cell_type": "code",
      "source": [
        "# Collect performance metrics\n",
        "results = []\n",
        "\n",
        "for features in feature_sets:\n",
        "    for method in preprocessing_steps:\n",
        "        # Prepare training and testing data\n",
        "        X_train = train_data[features]\n",
        "        y_train = train_data['medv']\n",
        "        X_test = test_data[features]\n",
        "        y_test = test_data['medv']\n",
        "\n",
        "        # Preprocess data\n",
        "        X_train_preprocessed, X_test_preprocessed = preprocess_data(X_train, X_test, method)\n",
        "\n",
        "        # Train the model\n",
        "        model = LinearRegression(fit_intercept=False)\n",
        "        model.fit(X_train_preprocessed, y_train)\n",
        "\n",
        "        # Make predictions\n",
        "        y_pred = model.predict(X_test_preprocessed)\n",
        "\n",
        "        # Evaluate the model\n",
        "        mse = mean_squared_error(y_test, y_pred)\n",
        "        r2 = r2_score(y_test, y_pred)\n",
        "\n",
        "        # Store the results\n",
        "        results.append({\n",
        "            'features': features,\n",
        "            'preprocessing': method,\n",
        "            'metrics (MSE, R2)': (round(mse, 4), round(r2, 4))\n",
        "        })\n",
        "\n",
        "# Convert the results to a DataFrame for better visualization\n",
        "results_df = pd.DataFrame(results)\n",
        "print(results_df)\n",
        "\n",
        "# Save the results to a CSV file\n",
        "results_df.to_csv('drive/MyDrive/Datasets/model_performance_comparison_with_new_features.csv', index=False)\n",
        "\n",
        "print(\"Trained with new features and saved successfully.\")\n"
      ],
      "metadata": {
        "colab": {
          "base_uri": "https://localhost:8080/"
        },
        "id": "XxE6QSYSz71j",
        "outputId": "99ad6754-fc6d-4196-be53-0657c1582326"
      },
      "execution_count": null,
      "outputs": [
        {
          "output_type": "stream",
          "name": "stdout",
          "text": [
            "                                             features preprocessing  \\\n",
            "0                                         [rm, lstat]          none   \n",
            "1                                         [rm, lstat]      standard   \n",
            "2                                         [rm, lstat]        minmax   \n",
            "3                               [rm, lstat, rm_lstat]          none   \n",
            "4                               [rm, lstat, rm_lstat]      standard   \n",
            "5                               [rm, lstat, rm_lstat]        minmax   \n",
            "6              [rm, lstat, rm_squared, lstat_squared]          none   \n",
            "7              [rm, lstat, rm_squared, lstat_squared]      standard   \n",
            "8              [rm, lstat, rm_squared, lstat_squared]        minmax   \n",
            "9                              [rm, lstat, log_lstat]          none   \n",
            "10                             [rm, lstat, log_lstat]      standard   \n",
            "11                             [rm, lstat, log_lstat]        minmax   \n",
            "12  [rm, lstat, age_binned_25-50, age_binned_50-75...          none   \n",
            "13  [rm, lstat, age_binned_25-50, age_binned_50-75...      standard   \n",
            "14  [rm, lstat, age_binned_25-50, age_binned_50-75...        minmax   \n",
            "15  [rm, lstat, rm_lstat, rm_squared, lstat_square...          none   \n",
            "16  [rm, lstat, rm_lstat, rm_squared, lstat_square...      standard   \n",
            "17  [rm, lstat, rm_lstat, rm_squared, lstat_square...        minmax   \n",
            "\n",
            "      metrics (MSE, R2)  \n",
            "0     (29.2645, 0.5976)  \n",
            "1   (556.2608, -6.6496)  \n",
            "2      (47.635, 0.3449)  \n",
            "3     (22.0581, 0.6967)  \n",
            "4   (542.3207, -6.4579)  \n",
            "5      (26.515, 0.6354)  \n",
            "6     (23.7886, 0.6729)  \n",
            "7   (546.0028, -6.5085)  \n",
            "8     (47.2023, 0.3509)  \n",
            "9     (25.3138, 0.6519)  \n",
            "10  (545.7133, -6.5046)  \n",
            "11    (47.5207, 0.3465)  \n",
            "12    (29.6345, 0.5925)  \n",
            "13  (557.1023, -6.6612)  \n",
            "14    (43.0052, 0.4086)  \n",
            "15    (18.5781, 0.7445)  \n",
            "16    (540.2917, -6.43)  \n",
            "17    (22.2707, 0.6937)  \n",
            "Trained with new features and saved successfully.\n"
          ]
        }
      ]
    },
    {
      "cell_type": "markdown",
      "source": [
        "- The models trained without any preprocessing (scaling) generally performed better than those with preprocessing.\n",
        "- The best performance was obtained with the feature set [rm, lstat, rm_lstat, rm_squared, lstat_squared, log_lstat, age_binned_25-50, age_binned_50-75, age_binned_75-100], yielding an MSE of 18.5781 and an R2 of 0.7445."
      ],
      "metadata": {
        "id": "JiapFjymt9FT"
      }
    }
  ]
}